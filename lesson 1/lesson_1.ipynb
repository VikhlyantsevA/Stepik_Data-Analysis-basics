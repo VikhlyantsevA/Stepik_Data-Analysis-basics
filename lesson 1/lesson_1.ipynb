{
 "cells": [
  {
   "cell_type": "markdown",
   "metadata": {},
   "source": [
    "#### 1. Сохранить в переменную `age` произвольный возраст, выраженный целым числом, а в переменную `name` какое-нибудь имя в виде строки."
   ]
  },
  {
   "cell_type": "code",
   "execution_count": 1,
   "metadata": {},
   "outputs": [
    {
     "name": "stdout",
     "output_type": "stream",
     "text": [
      "Введите возраст:19\n",
      "Введите имя:Ken\n",
      "name = Ken, age = 19\n"
     ]
    }
   ],
   "source": [
    "age = int(input('Введите возраст:'))\n",
    "name = str(input('Введите имя:'))\n",
    "print(f'name = {name}, age = {age}')"
   ]
  },
  {
   "cell_type": "markdown",
   "metadata": {},
   "source": [
    "#### 2.Создать список `user_info`, содержащий 2 строки (имя и фамилию пользователя), 1 дробное число (зарплата) и 1 целое число (стаж)."
   ]
  },
  {
   "cell_type": "code",
   "execution_count": 2,
   "metadata": {},
   "outputs": [
    {
     "name": "stdout",
     "output_type": "stream",
     "text": [
      "['Andrey', 'Petrov', '80.2', '2']\n"
     ]
    }
   ],
   "source": [
    "first_name = 'Andrey'\n",
    "last_name = 'Petrov'\n",
    "salary = '80.2'\n",
    "experience = '2'\n",
    "\n",
    "user_info = [first_name, last_name, salary, experience]\n",
    "print(user_info)"
   ]
  },
  {
   "cell_type": "markdown",
   "metadata": {},
   "source": [
    "#### 3.Поместить в переменную `first` первый элемент списка `salaries`."
   ]
  },
  {
   "cell_type": "code",
   "execution_count": 3,
   "metadata": {},
   "outputs": [
    {
     "name": "stdout",
     "output_type": "stream",
     "text": [
      "First employee's salary is 60.5\n"
     ]
    }
   ],
   "source": [
    "salaries = [60.55, 45.0, 80.2, 136.4]\n",
    "\n",
    "print(\"First employee's salary is {first:.1f}\".format(first = salaries[0]))\n",
    "# print(\"First employee's salary is {0:.1f}\".format(first))"
   ]
  },
  {
   "cell_type": "markdown",
   "metadata": {},
   "source": [
    "#### 4.Добавить в список `users` элементы `'Voronov'` и `42`."
   ]
  },
  {
   "cell_type": "code",
   "execution_count": 4,
   "metadata": {},
   "outputs": [
    {
     "name": "stdout",
     "output_type": "stream",
     "text": [
      "['Voronov', '42']\n"
     ]
    }
   ],
   "source": [
    "users = []\n",
    "users.append('Voronov')\n",
    "users.append('42')\n",
    "print(users)"
   ]
  },
  {
   "cell_type": "markdown",
   "metadata": {},
   "source": [
    "#### 5.В списке 'user_ages' содержатся данные о возрасте пользователей. Написать цикл, выводящий на печать пользователей не младше 18 лет."
   ]
  },
  {
   "cell_type": "code",
   "execution_count": 5,
   "metadata": {},
   "outputs": [],
   "source": [
    "import numpy as np"
   ]
  },
  {
   "cell_type": "code",
   "execution_count": 6,
   "metadata": {},
   "outputs": [
    {
     "name": "stdout",
     "output_type": "stream",
     "text": [
      "[24, 69, 23, 54, 77, 53, 54, 30, 35, 19]\n",
      "[24, 69, 23, 54, 77, 53, 54, 30, 35, 19]\n"
     ]
    }
   ],
   "source": [
    "user_ages = list(np.random.randint(14, 80, 10))\n",
    "print(user_ages)\n",
    "\n",
    "adult_users = [user for user in user_ages if user >= 18]\n",
    "print(adult_users)"
   ]
  },
  {
   "cell_type": "markdown",
   "metadata": {},
   "source": [
    "#### 6.Написать программу, проверяющую стаж сотрудника. В переменной `workers` содержатся вложенные списки с именем, фамилией, зарплатой и стажем каждого сотрудника. Необходимо вывести данные в формате:\n",
    "\"__*`first_name` `last_name` is `position`*__\", \n",
    "\n",
    "где `first_name` и `last_name` - имя и фамилия сотрудника,\n",
    "\n",
    "`position` - должность сотрудника, определяемая в соответствии со стажем:\n",
    "   - `'junior'` - стаж меньше 2 лет;\n",
    "   - `'middle'` - стаж от 2 до 5 лет включительно;\n",
    "   - `'senior'` - стаж больше 5 лет."
   ]
  },
  {
   "cell_type": "code",
   "execution_count": 7,
   "metadata": {},
   "outputs": [],
   "source": [
    "workers = [\n",
    "            ['Anton', 'Volkov', 50, 1],\n",
    "            ['Sergey', 'Mironov', 200, 6],\n",
    "            ['Andrey', 'Maslennikov', 80, 2],\n",
    "            ['Irina', 'Svetlitskaya', 100, 3]\n",
    "         ]"
   ]
  },
  {
   "cell_type": "code",
   "execution_count": 8,
   "metadata": {},
   "outputs": [
    {
     "name": "stdout",
     "output_type": "stream",
     "text": [
      "Anton Volkov is junior\n",
      "Sergey Mironov is senior\n",
      "Andrey Maslennikov is middle\n",
      "Irina Svetlitskaya is middle\n"
     ]
    }
   ],
   "source": [
    "for worker in workers:\n",
    "    first_name = worker[0]\n",
    "    last_name = worker[1]\n",
    "    experience = worker[3]\n",
    "    if experience < 2:\n",
    "        position = 'junior'\n",
    "    elif experience <= 5:\n",
    "        position = 'middle'\n",
    "    else:\n",
    "        position = 'senior'\n",
    "    print(f'{first_name} {last_name} is {position}')"
   ]
  },
  {
   "cell_type": "markdown",
   "metadata": {},
   "source": [
    "#### 7.В списке `values` содержатся числовые значения. Необходимо создать список `tens` и добавить в него все числа из `values`, которые делятся на 10 без остатка."
   ]
  },
  {
   "cell_type": "code",
   "execution_count": 9,
   "metadata": {},
   "outputs": [],
   "source": [
    "values = [1, 20, 5, 70, 40, 100, 99, 78, 13]"
   ]
  },
  {
   "cell_type": "code",
   "execution_count": 10,
   "metadata": {},
   "outputs": [
    {
     "name": "stdout",
     "output_type": "stream",
     "text": [
      "[20, 70, 40, 100]\n"
     ]
    }
   ],
   "source": [
    "tens = [element for element in values if element % 10 == 0]\n",
    "print(tens)"
   ]
  }
 ],
 "metadata": {
  "kernelspec": {
   "display_name": "Python 3",
   "language": "python",
   "name": "python3"
  },
  "language_info": {
   "codemirror_mode": {
    "name": "ipython",
    "version": 3
   },
   "file_extension": ".py",
   "mimetype": "text/x-python",
   "name": "python",
   "nbconvert_exporter": "python",
   "pygments_lexer": "ipython3",
   "version": "3.7.6"
  }
 },
 "nbformat": 4,
 "nbformat_minor": 4
}
